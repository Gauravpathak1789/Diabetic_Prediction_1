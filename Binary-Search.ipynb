{
 "cells": [
  {
   "cell_type": "code",
   "execution_count": 17,
   "id": "445ef220",
   "metadata": {},
   "outputs": [
    {
     "name": "stdout",
     "output_type": "stream",
     "text": [
      "enter the len of list you wanted--20\n",
      "enter the target element--36\n",
      "[0, 2, 4, 6, 8, 10, 12, 14, 16, 18, 20, 22, 24, 26, 28, 30, 32, 34, 36, 38]\n",
      "index of target element  36 is 18\n"
     ]
    }
   ],
   "source": [
    "def Binary_search(lst,Target):\n",
    "    \n",
    "    start=0\n",
    "    \n",
    "    end=len(lst)-1\n",
    "    \n",
    "    while (start<=end):\n",
    "        \n",
    "        mid=start+(end-start)//2 #mid element of list\n",
    "        \n",
    "        if (Target>lst[mid]): #if target is greater than mid it will set the start element just after the mid \n",
    "            start=mid+1\n",
    "            \n",
    "        elif (Target<lst[start]):#if target is smaller than mid then it will set the end element just before the mid element value\n",
    "            end=mid-1\n",
    "            \n",
    "        else:  #if it is none of the condition then it means target mathces with mid element\n",
    "            return mid\n",
    "        \n",
    "    return \"not found\" # if it did not match with any above mentioned condition it will throw not found message\n",
    "        \n",
    "\n",
    "\n",
    "\n",
    "\n",
    "\n",
    "import random \n",
    "# Function to generate a list of random numbers with a difference of 2 between them\n",
    "def generate_list(n,Target):\n",
    "    lst = [random.randint(0,100) for i in range(n)]\n",
    "    lst.sort()\n",
    "    for i in range(1, len(lst)):\n",
    "        lst[i] = lst[i-1] + 2\n",
    "    print(lst)    #it prints the list that have just created\n",
    "    return Binary_search(lst,Target)\n",
    "\n",
    "n=int(input(\"enter the len of list you wanted--\")) #len of list\n",
    "\n",
    "Target=int(input(\"enter the target element--\"))# user input for target elemnt\n",
    "\n",
    "result=generate_list(n,Target)#calling function generatelist \n",
    "\n",
    "print(\"index of target element \",Target,\"is\",result)\n"
   ]
  },
  {
   "cell_type": "code",
   "execution_count": null,
   "id": "a4773b4c",
   "metadata": {},
   "outputs": [],
   "source": []
  }
 ],
 "metadata": {
  "kernelspec": {
   "display_name": "Python 3 (ipykernel)",
   "language": "python",
   "name": "python3"
  },
  "language_info": {
   "codemirror_mode": {
    "name": "ipython",
    "version": 3
   },
   "file_extension": ".py",
   "mimetype": "text/x-python",
   "name": "python",
   "nbconvert_exporter": "python",
   "pygments_lexer": "ipython3",
   "version": "3.9.12"
  }
 },
 "nbformat": 4,
 "nbformat_minor": 5
}
